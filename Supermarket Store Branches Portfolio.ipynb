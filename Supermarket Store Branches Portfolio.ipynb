{
 "cells": [
  {
   "cell_type": "markdown",
   "id": "d6348a6c",
   "metadata": {},
   "source": [
    "A supermarket is a self-service shop offering a wide variety of food, beverages and household products, organized into sections. This kind of store is larger and has a wider selection than earlier grocery stores, but is smaller and more limited in the range of merchandise than a hypermarket or big-box market. In everyday U.S. usage, however, \"grocery store\" is synonymous with supermarket, and is not used to refer to other types of stores that sell groceries."
   ]
  },
  {
   "cell_type": "markdown",
   "id": "68fdf27d",
   "metadata": {},
   "source": [
    "In the dataset, You'll get data of different stores of a supermarket company as per their store IDs which for ease has been converted to positive integers.\n",
    "\n",
    "Store_ID: (Index) ID of the particular store.\n",
    "\n",
    "Store_Area: Physical Area of the store in yard square.\n",
    "\n",
    "Items_Available: Number of different items available in the corresponding store.\n",
    "\n",
    "Daily_Customer_Count: Number of customers who visited to stores on an average over month.\n",
    "\n",
    "Store_Sales: Sales in (US $) that stores made."
   ]
  },
  {
   "cell_type": "markdown",
   "id": "e026c7a3",
   "metadata": {},
   "source": [
    "The data is obtained from the project from the University after seeking proper permission."
   ]
  },
  {
   "cell_type": "markdown",
   "id": "be174bfd",
   "metadata": {},
   "source": [
    "Analyzing the performances of stores in the past on basis of which will try to rectify defects as well as to leverage the positives. Who doesn't want to increase their profits right?"
   ]
  },
  {
   "cell_type": "markdown",
   "id": "ef03abb9",
   "metadata": {},
   "source": [
    "First things first, we must import all relevant libraries that consist of pandas, numpy, pyplot from matplotlib, and seaborn"
   ]
  },
  {
   "cell_type": "code",
   "execution_count": 1,
   "id": "af68ec02",
   "metadata": {},
   "outputs": [],
   "source": [
    "#IMPORT RELEVANT LIBRARIES\n",
    "import pandas as pd\n",
    "import numpy as np\n",
    "import matplotlib.pyplot as plt\n",
    "import seaborn as sns"
   ]
  },
  {
   "cell_type": "markdown",
   "id": "b2eca92d",
   "metadata": {},
   "source": [
    "Do not forget to import the library for operating system as well, because we need to import the CSV file from our operating system"
   ]
  },
  {
   "cell_type": "code",
   "execution_count": 2,
   "id": "213d0190",
   "metadata": {},
   "outputs": [],
   "source": [
    "import os"
   ]
  },
  {
   "cell_type": "markdown",
   "id": "bc8f0997",
   "metadata": {},
   "source": [
    "We created a dataframe called 'stores' to store the data from the CSV file imported from the operating system."
   ]
  },
  {
   "cell_type": "code",
   "execution_count": 3,
   "id": "4085dd1a",
   "metadata": {},
   "outputs": [],
   "source": [
    "stores = pd.read_csv('C:/Users/user/Downloads/archive (1)/Stores.csv')"
   ]
  },
  {
   "cell_type": "code",
   "execution_count": 4,
   "id": "b49036f8",
   "metadata": {
    "scrolled": false
   },
   "outputs": [
    {
     "data": {
      "text/html": [
       "<div>\n",
       "<style scoped>\n",
       "    .dataframe tbody tr th:only-of-type {\n",
       "        vertical-align: middle;\n",
       "    }\n",
       "\n",
       "    .dataframe tbody tr th {\n",
       "        vertical-align: top;\n",
       "    }\n",
       "\n",
       "    .dataframe thead th {\n",
       "        text-align: right;\n",
       "    }\n",
       "</style>\n",
       "<table border=\"1\" class=\"dataframe\">\n",
       "  <thead>\n",
       "    <tr style=\"text-align: right;\">\n",
       "      <th></th>\n",
       "      <th>Store ID</th>\n",
       "      <th>Store_Area</th>\n",
       "      <th>Items_Available</th>\n",
       "      <th>Daily_Customer_Count</th>\n",
       "      <th>Store_Sales</th>\n",
       "    </tr>\n",
       "  </thead>\n",
       "  <tbody>\n",
       "    <tr>\n",
       "      <th>0</th>\n",
       "      <td>1</td>\n",
       "      <td>1659</td>\n",
       "      <td>1961</td>\n",
       "      <td>530</td>\n",
       "      <td>66490</td>\n",
       "    </tr>\n",
       "    <tr>\n",
       "      <th>1</th>\n",
       "      <td>2</td>\n",
       "      <td>1461</td>\n",
       "      <td>1752</td>\n",
       "      <td>210</td>\n",
       "      <td>39820</td>\n",
       "    </tr>\n",
       "    <tr>\n",
       "      <th>2</th>\n",
       "      <td>3</td>\n",
       "      <td>1340</td>\n",
       "      <td>1609</td>\n",
       "      <td>720</td>\n",
       "      <td>54010</td>\n",
       "    </tr>\n",
       "    <tr>\n",
       "      <th>3</th>\n",
       "      <td>4</td>\n",
       "      <td>1451</td>\n",
       "      <td>1748</td>\n",
       "      <td>620</td>\n",
       "      <td>53730</td>\n",
       "    </tr>\n",
       "    <tr>\n",
       "      <th>4</th>\n",
       "      <td>5</td>\n",
       "      <td>1770</td>\n",
       "      <td>2111</td>\n",
       "      <td>450</td>\n",
       "      <td>46620</td>\n",
       "    </tr>\n",
       "    <tr>\n",
       "      <th>...</th>\n",
       "      <td>...</td>\n",
       "      <td>...</td>\n",
       "      <td>...</td>\n",
       "      <td>...</td>\n",
       "      <td>...</td>\n",
       "    </tr>\n",
       "    <tr>\n",
       "      <th>891</th>\n",
       "      <td>892</td>\n",
       "      <td>1582</td>\n",
       "      <td>1910</td>\n",
       "      <td>1080</td>\n",
       "      <td>66390</td>\n",
       "    </tr>\n",
       "    <tr>\n",
       "      <th>892</th>\n",
       "      <td>893</td>\n",
       "      <td>1387</td>\n",
       "      <td>1663</td>\n",
       "      <td>850</td>\n",
       "      <td>82080</td>\n",
       "    </tr>\n",
       "    <tr>\n",
       "      <th>893</th>\n",
       "      <td>894</td>\n",
       "      <td>1200</td>\n",
       "      <td>1436</td>\n",
       "      <td>1060</td>\n",
       "      <td>76440</td>\n",
       "    </tr>\n",
       "    <tr>\n",
       "      <th>894</th>\n",
       "      <td>895</td>\n",
       "      <td>1299</td>\n",
       "      <td>1560</td>\n",
       "      <td>770</td>\n",
       "      <td>96610</td>\n",
       "    </tr>\n",
       "    <tr>\n",
       "      <th>895</th>\n",
       "      <td>896</td>\n",
       "      <td>1174</td>\n",
       "      <td>1429</td>\n",
       "      <td>1110</td>\n",
       "      <td>54340</td>\n",
       "    </tr>\n",
       "  </tbody>\n",
       "</table>\n",
       "<p>896 rows × 5 columns</p>\n",
       "</div>"
      ],
      "text/plain": [
       "     Store ID   Store_Area  Items_Available  Daily_Customer_Count  Store_Sales\n",
       "0            1        1659             1961                   530        66490\n",
       "1            2        1461             1752                   210        39820\n",
       "2            3        1340             1609                   720        54010\n",
       "3            4        1451             1748                   620        53730\n",
       "4            5        1770             2111                   450        46620\n",
       "..         ...         ...              ...                   ...          ...\n",
       "891        892        1582             1910                  1080        66390\n",
       "892        893        1387             1663                   850        82080\n",
       "893        894        1200             1436                  1060        76440\n",
       "894        895        1299             1560                   770        96610\n",
       "895        896        1174             1429                  1110        54340\n",
       "\n",
       "[896 rows x 5 columns]"
      ]
     },
     "execution_count": 4,
     "metadata": {},
     "output_type": "execute_result"
    }
   ],
   "source": [
    "stores"
   ]
  },
  {
   "cell_type": "code",
   "execution_count": 5,
   "id": "bf0a6f56",
   "metadata": {},
   "outputs": [
    {
     "data": {
      "text/plain": [
       "(896, 5)"
      ]
     },
     "execution_count": 5,
     "metadata": {},
     "output_type": "execute_result"
    }
   ],
   "source": [
    "stores.shape"
   ]
  },
  {
   "cell_type": "markdown",
   "id": "6e42f377",
   "metadata": {},
   "source": [
    "As we can see, the dataset for 'stores' consists of 896 rows and 5 columns."
   ]
  },
  {
   "cell_type": "markdown",
   "id": "e0e962ba",
   "metadata": {},
   "source": [
    "We should first conduct a linear regression on each of the independent variables (Store_Area, Items_Available, Daily_Customer_Count) against the dependent variable (Store_Sales)"
   ]
  },
  {
   "cell_type": "code",
   "execution_count": 15,
   "id": "33e45d5f",
   "metadata": {},
   "outputs": [],
   "source": [
    "from sklearn.linear_model import LinearRegression"
   ]
  },
  {
   "cell_type": "code",
   "execution_count": 6,
   "id": "8c448cea",
   "metadata": {},
   "outputs": [],
   "source": [
    "\n",
    "x_area = np.array(stores['Store_Area'])\n",
    "x_items = np.array(stores['Items_Available'])\n",
    "x_cust = np.array(stores['Daily_Customer_Count'])\n",
    "y_sales = np.array(stores['Store_Sales'])"
   ]
  },
  {
   "cell_type": "code",
   "execution_count": 28,
   "id": "ceb5ba9d",
   "metadata": {},
   "outputs": [
    {
     "name": "stdout",
     "output_type": "stream",
     "text": [
      "(896,)\n",
      "(896,)\n",
      "(896,)\n",
      "(896,)\n"
     ]
    }
   ],
   "source": [
    "print(x_area.shape)\n",
    "print(x_items.shape)\n",
    "print(x_cust.shape)\n",
    "print(y_sales.shape)"
   ]
  },
  {
   "cell_type": "markdown",
   "id": "2a5ab531",
   "metadata": {},
   "source": [
    "The first graph that we plot would be the relationship between Store Area and Store Sales"
   ]
  },
  {
   "cell_type": "code",
   "execution_count": 9,
   "id": "c0f80cca",
   "metadata": {
    "scrolled": true
   },
   "outputs": [
    {
     "data": {
      "image/png": "[encoded data removed]",
      "text/plain": [
       "<Figure size 432x288 with 1 Axes>"
      ]
     },
     "metadata": {
      "needs_background": "light"
     },
     "output_type": "display_data"
    }
   ],
   "source": [
    "#PLOTTING GRAPH BETWEEN Store Area vs Store Sales\n",
    "plt.plot(x_area, y_sales, 'o')\n",
    "m, b = np.polyfit(x_area, y_sales, 1)\n",
    "\n",
    "#PLOTTING LINE OF BEST FIT\n",
    "plt.plot(x_area, x_area*m + b)\n",
    "plt.xlabel(\"Store Area\")\n",
    "plt.ylabel(\"Store Sales\")\n",
    "plt.title(\"Store Area vs Store Sales\")\n",
    "plt.show()"
   ]
  },
  {
   "cell_type": "markdown",
   "id": "5cc5aef2",
   "metadata": {},
   "source": [
    "For every graph we plot, we must analyze its y-intercept and its R-squared value.\n",
    "\n",
    "R-squared value is important in every plotted graphs as it provides percentage of the variance in the dependent variable that the independent variables explain collectively."
   ]
  },
  {
   "cell_type": "code",
   "execution_count": 10,
   "id": "9f5e22cf",
   "metadata": {},
   "outputs": [
    {
     "name": "stdout",
     "output_type": "stream",
     "text": [
      "49404.64796575997\n"
     ]
    }
   ],
   "source": [
    "#FINDING Y-INTERCEPT\n",
    "y_sales_intercept_1 = np.polyfit(x_area, y_sales, 1)\n",
    "print(y_sales_intercept_1[1])\n",
    "#Y_intercept for AREA vs SALES is approximately $49405"
   ]
  },
  {
   "cell_type": "code",
   "execution_count": 11,
   "id": "dedd9b09",
   "metadata": {},
   "outputs": [
    {
     "data": {
      "text/plain": [
       "array([[1.       , 0.0974738],\n",
       "       [0.0974738, 1.       ]])"
      ]
     },
     "execution_count": 11,
     "metadata": {},
     "output_type": "execute_result"
    }
   ],
   "source": [
    "#COEFFICIENT MATRIX FOR STORE AREA vs STORE SALES\n",
    "np.corrcoef(x_area, y_sales)"
   ]
  },
  {
   "cell_type": "code",
   "execution_count": 12,
   "id": "2ab359aa",
   "metadata": {},
   "outputs": [
    {
     "data": {
      "text/plain": [
       "array([[1.       , 0.0974738],\n",
       "       [0.0974738, 1.       ]])"
      ]
     },
     "execution_count": 12,
     "metadata": {},
     "output_type": "execute_result"
    }
   ],
   "source": [
    "cor_matrix = np.corrcoef(x_area, y_sales)\n",
    "cor_matrix"
   ]
  },
  {
   "cell_type": "code",
   "execution_count": 13,
   "id": "1b1a65a7",
   "metadata": {},
   "outputs": [
    {
     "data": {
      "text/plain": [
       "0.009501140788668327"
      ]
     },
     "execution_count": 13,
     "metadata": {},
     "output_type": "execute_result"
    }
   ],
   "source": [
    "#CALCULATE R2 for STORE AREA vs STORE SALES\n",
    "cor = cor_matrix[0,1]\n",
    "cor\n",
    "R_sq_1 = cor**2\n",
    "R_sq_1\n",
    "#R squared value for STORE AREA vs STORE SALES is 0.009501"
   ]
  },
  {
   "cell_type": "markdown",
   "id": "d4355bc0",
   "metadata": {},
   "source": [
    "For the Store Area vs Store Sales plot, we can see that the y-intercept for this is $49404.65, whereas the R-squared value is 0.009501"
   ]
  },
  {
   "cell_type": "markdown",
   "id": "ab5edf63",
   "metadata": {},
   "source": [
    "Next, we will plot a graph to investigate the relationship between Items Available and the Store Sales"
   ]
  },
  {
   "cell_type": "code",
   "execution_count": 14,
   "id": "198cca56",
   "metadata": {},
   "outputs": [
    {
     "data": {
      "image/png": "[encoded data removed]",
      "text/plain": [
       "<Figure size 432x288 with 1 Axes>"
      ]
     },
     "metadata": {
      "needs_background": "light"
     },
     "output_type": "display_data"
    }
   ],
   "source": [
    "#PLOTTING GRAPH BETWEEN ITEMS AVAILABLE vs STORE SALES\n",
    "plt.plot(x_items, y_sales, 'o')\n",
    "m, b = np.polyfit(x_items, y_sales, 1)\n",
    "\n",
    "#PLOTTING LINE OF BEST FIT\n",
    "plt.plot(x_items, x_area*m + b)\n",
    "plt.xlabel(\"Items Available\")\n",
    "plt.ylabel(\"Store Sales\")\n",
    "plt.title(\"Items Available vs Store Sales\")\n",
    "plt.show()"
   ]
  },
  {
   "cell_type": "code",
   "execution_count": 15,
   "id": "5c1103dd",
   "metadata": {},
   "outputs": [
    {
     "name": "stdout",
     "output_type": "stream",
     "text": [
      "49252.983647381836\n"
     ]
    }
   ],
   "source": [
    "#FINDING Y-INTERCEPT\n",
    "y_sales_intercept_2 = np.polyfit(x_items, y_sales, 1)\n",
    "print(y_sales_intercept_2[1])\n",
    "#Y_intercept for ITEMS AVAILABLE vs SALES is approximately $49253"
   ]
  },
  {
   "cell_type": "code",
   "execution_count": 16,
   "id": "638bff27",
   "metadata": {},
   "outputs": [
    {
     "data": {
      "text/plain": [
       "array([[1.        , 0.09884943],\n",
       "       [0.09884943, 1.        ]])"
      ]
     },
     "execution_count": 16,
     "metadata": {},
     "output_type": "execute_result"
    }
   ],
   "source": [
    "#COEFFICIENT MATRIX FOR ITEMS AVAILABLE vs STORE SALES\n",
    "cor_matrix_2 = np.corrcoef(x_items, y_sales)\n",
    "cor_matrix_2"
   ]
  },
  {
   "cell_type": "code",
   "execution_count": 17,
   "id": "d604334c",
   "metadata": {},
   "outputs": [
    {
     "data": {
      "text/plain": [
       "0.009771210753148619"
      ]
     },
     "execution_count": 17,
     "metadata": {},
     "output_type": "execute_result"
    }
   ],
   "source": [
    "#CALCULATE R2 for ITEMS AVAILABLE vs SALES\n",
    "cor_2 = cor_matrix_2[0,1]\n",
    "cor_2\n",
    "R_sq_2 = cor_2 ** 2\n",
    "R_sq_2\n",
    "#R2 for ITEMS AVAILABLE vs SALES is 0.009771"
   ]
  },
  {
   "cell_type": "markdown",
   "id": "9d72e6aa",
   "metadata": {},
   "source": [
    "For the plot between Items Available and Store Sales, we can see that the y-intercept is $49252.98 and the R-squared value is 0.009771"
   ]
  },
  {
   "cell_type": "markdown",
   "id": "97035729",
   "metadata": {},
   "source": [
    "The plot below shows the relationship between Daily Customer Count and Store Sales"
   ]
  },
  {
   "cell_type": "code",
   "execution_count": 66,
   "id": "0dde8ac8",
   "metadata": {},
   "outputs": [
    {
     "data": {
      "image/png": "[encoded data removed]",
      "text/plain": [
       "<Figure size 432x288 with 1 Axes>"
      ]
     },
     "metadata": {
      "needs_background": "light"
     },
     "output_type": "display_data"
    }
   ],
   "source": [
    "#PLOTTING GRAPH BETWEEN DAILY CUSTOMER COUNT vs STORE SALES\n",
    "plt.plot(x_cust, y_sales, 'o')\n",
    "m, b = np.polyfit(x_cust, y_sales, 1)\n",
    "\n",
    "#PLOTTING LINE OF BEST FIT\n",
    "plt.plot(x_cust, x_cust*m + b)\n",
    "plt.xlabel(\"Daily Customer_Count\")\n",
    "plt.ylabel(\"Store Sales\")\n",
    "plt.title(\"Daily Customer_Count vs Store Sales\")\n",
    "plt.show()"
   ]
  },
  {
   "cell_type": "code",
   "execution_count": 18,
   "id": "d1a6d12b",
   "metadata": {},
   "outputs": [
    {
     "name": "stdout",
     "output_type": "stream",
     "text": [
      "58911.79137595663\n"
     ]
    }
   ],
   "source": [
    "#FINDING Y-INTERCEPT\n",
    "y_sales_intercept_3 = np.polyfit(x_cust, y_sales, 1)\n",
    "print(y_sales_intercept_3[1])\n",
    "#Y_intercept for DAILY CUSTOMER COUNT vs SALES is approximately $58911.8"
   ]
  },
  {
   "cell_type": "code",
   "execution_count": 19,
   "id": "907aed16",
   "metadata": {},
   "outputs": [
    {
     "data": {
      "text/plain": [
       "array([[1.        , 0.00862871],\n",
       "       [0.00862871, 1.        ]])"
      ]
     },
     "execution_count": 19,
     "metadata": {},
     "output_type": "execute_result"
    }
   ],
   "source": [
    "#COEFFICIENT MATRIX FOR ITEMS AVAILABLE vs STORE SALES\n",
    "cor_matrix_3 = np.corrcoef(x_cust, y_sales)\n",
    "cor_matrix_3"
   ]
  },
  {
   "cell_type": "code",
   "execution_count": 20,
   "id": "b022d1b7",
   "metadata": {},
   "outputs": [
    {
     "data": {
      "text/plain": [
       "7.445459606441479e-05"
      ]
     },
     "execution_count": 20,
     "metadata": {},
     "output_type": "execute_result"
    }
   ],
   "source": [
    "#CALCULATE R2 for ITEMS AVAILABLE vs SALES\n",
    "cor_3 = cor_matrix_3[0,1]\n",
    "cor_3\n",
    "R_sq_3 = cor_3 ** 2\n",
    "R_sq_3\n",
    "#R2 for ITEMS AVAILABLE vs SALES is 0.00007445"
   ]
  },
  {
   "cell_type": "markdown",
   "id": "d742f084",
   "metadata": {},
   "source": [
    "For the plot between Daily Customer Count and Store Sales, we can see that the y-intercept for this is $58911.79 and R-squared value is 0.00007445"
   ]
  },
  {
   "cell_type": "markdown",
   "id": "b563e6b8",
   "metadata": {},
   "source": [
    "We will now plot a correlation matrix to investigate the relationship between the variables"
   ]
  },
  {
   "cell_type": "code",
   "execution_count": 24,
   "id": "4b7dc8f1",
   "metadata": {
    "scrolled": true
   },
   "outputs": [
    {
     "data": {
      "text/html": [
       "<div>\n",
       "<style scoped>\n",
       "    .dataframe tbody tr th:only-of-type {\n",
       "        vertical-align: middle;\n",
       "    }\n",
       "\n",
       "    .dataframe tbody tr th {\n",
       "        vertical-align: top;\n",
       "    }\n",
       "\n",
       "    .dataframe thead th {\n",
       "        text-align: right;\n",
       "    }\n",
       "</style>\n",
       "<table border=\"1\" class=\"dataframe\">\n",
       "  <thead>\n",
       "    <tr style=\"text-align: right;\">\n",
       "      <th></th>\n",
       "      <th>Store ID</th>\n",
       "      <th>Store_Area</th>\n",
       "      <th>Items_Available</th>\n",
       "      <th>Daily_Customer_Count</th>\n",
       "      <th>Store_Sales</th>\n",
       "    </tr>\n",
       "  </thead>\n",
       "  <tbody>\n",
       "    <tr>\n",
       "      <th>Store ID</th>\n",
       "      <td>1.000</td>\n",
       "      <td>-0.059</td>\n",
       "      <td>-0.056</td>\n",
       "      <td>-0.010</td>\n",
       "      <td>0.071</td>\n",
       "    </tr>\n",
       "    <tr>\n",
       "      <th>Store_Area</th>\n",
       "      <td>-0.059</td>\n",
       "      <td>1.000</td>\n",
       "      <td>0.999</td>\n",
       "      <td>-0.041</td>\n",
       "      <td>0.097</td>\n",
       "    </tr>\n",
       "    <tr>\n",
       "      <th>Items_Available</th>\n",
       "      <td>-0.056</td>\n",
       "      <td>0.999</td>\n",
       "      <td>1.000</td>\n",
       "      <td>-0.041</td>\n",
       "      <td>0.099</td>\n",
       "    </tr>\n",
       "    <tr>\n",
       "      <th>Daily_Customer_Count</th>\n",
       "      <td>-0.010</td>\n",
       "      <td>-0.041</td>\n",
       "      <td>-0.041</td>\n",
       "      <td>1.000</td>\n",
       "      <td>0.009</td>\n",
       "    </tr>\n",
       "    <tr>\n",
       "      <th>Store_Sales</th>\n",
       "      <td>0.071</td>\n",
       "      <td>0.097</td>\n",
       "      <td>0.099</td>\n",
       "      <td>0.009</td>\n",
       "      <td>1.000</td>\n",
       "    </tr>\n",
       "  </tbody>\n",
       "</table>\n",
       "</div>"
      ],
      "text/plain": [
       "                      Store ID   Store_Area  Items_Available  \\\n",
       "Store ID                  1.000      -0.059           -0.056   \n",
       "Store_Area               -0.059       1.000            0.999   \n",
       "Items_Available          -0.056       0.999            1.000   \n",
       "Daily_Customer_Count     -0.010      -0.041           -0.041   \n",
       "Store_Sales               0.071       0.097            0.099   \n",
       "\n",
       "                      Daily_Customer_Count  Store_Sales  \n",
       "Store ID                            -0.010        0.071  \n",
       "Store_Area                          -0.041        0.097  \n",
       "Items_Available                     -0.041        0.099  \n",
       "Daily_Customer_Count                 1.000        0.009  \n",
       "Store_Sales                          0.009        1.000  "
      ]
     },
     "execution_count": 24,
     "metadata": {},
     "output_type": "execute_result"
    }
   ],
   "source": [
    "#CORRELATION MATRIX\n",
    "matrix = stores.corr().round(3)\n",
    "matrix"
   ]
  },
  {
   "cell_type": "markdown",
   "id": "f17cdd35",
   "metadata": {},
   "source": [
    "However, the problem with this correlation matrix is that Store ID is a primary key, which is irrelevant for the correlation matrix, therefore we have to remove it."
   ]
  },
  {
   "cell_type": "markdown",
   "id": "6072fea1",
   "metadata": {},
   "source": [
    "The table below shows the updated 'stores' table, without the Store ID"
   ]
  },
  {
   "cell_type": "code",
   "execution_count": 91,
   "id": "6961a114",
   "metadata": {
    "scrolled": true
   },
   "outputs": [
    {
     "data": {
      "text/html": [
       "<div>\n",
       "<style scoped>\n",
       "    .dataframe tbody tr th:only-of-type {\n",
       "        vertical-align: middle;\n",
       "    }\n",
       "\n",
       "    .dataframe tbody tr th {\n",
       "        vertical-align: top;\n",
       "    }\n",
       "\n",
       "    .dataframe thead th {\n",
       "        text-align: right;\n",
       "    }\n",
       "</style>\n",
       "<table border=\"1\" class=\"dataframe\">\n",
       "  <thead>\n",
       "    <tr style=\"text-align: right;\">\n",
       "      <th></th>\n",
       "      <th>Store_Area</th>\n",
       "      <th>Items_Available</th>\n",
       "      <th>Daily_Customer_Count</th>\n",
       "      <th>Store_Sales</th>\n",
       "    </tr>\n",
       "  </thead>\n",
       "  <tbody>\n",
       "    <tr>\n",
       "      <th>0</th>\n",
       "      <td>1659</td>\n",
       "      <td>1961</td>\n",
       "      <td>530</td>\n",
       "      <td>66490</td>\n",
       "    </tr>\n",
       "    <tr>\n",
       "      <th>1</th>\n",
       "      <td>1461</td>\n",
       "      <td>1752</td>\n",
       "      <td>210</td>\n",
       "      <td>39820</td>\n",
       "    </tr>\n",
       "    <tr>\n",
       "      <th>2</th>\n",
       "      <td>1340</td>\n",
       "      <td>1609</td>\n",
       "      <td>720</td>\n",
       "      <td>54010</td>\n",
       "    </tr>\n",
       "    <tr>\n",
       "      <th>3</th>\n",
       "      <td>1451</td>\n",
       "      <td>1748</td>\n",
       "      <td>620</td>\n",
       "      <td>53730</td>\n",
       "    </tr>\n",
       "    <tr>\n",
       "      <th>4</th>\n",
       "      <td>1770</td>\n",
       "      <td>2111</td>\n",
       "      <td>450</td>\n",
       "      <td>46620</td>\n",
       "    </tr>\n",
       "  </tbody>\n",
       "</table>\n",
       "</div>"
      ],
      "text/plain": [
       "   Store_Area  Items_Available  Daily_Customer_Count  Store_Sales\n",
       "0        1659             1961                   530        66490\n",
       "1        1461             1752                   210        39820\n",
       "2        1340             1609                   720        54010\n",
       "3        1451             1748                   620        53730\n",
       "4        1770             2111                   450        46620"
      ]
     },
     "execution_count": 91,
     "metadata": {},
     "output_type": "execute_result"
    }
   ],
   "source": [
    "file_1 = {'Store_Area': stores['Store_Area'],\n",
    "         'Items_Available' : stores['Items_Available'],\n",
    "         'Daily_Customer_Count' : stores['Daily_Customer_Count'],\n",
    "         'Store_Sales' : stores['Store_Sales']}\n",
    "stores_df = pd.DataFrame(file_1)\n",
    "stores_df.head()"
   ]
  },
  {
   "cell_type": "markdown",
   "id": "72130750",
   "metadata": {},
   "source": [
    "We will now create an updated correlation matrix for the updated 'stores' table"
   ]
  },
  {
   "cell_type": "code",
   "execution_count": 92,
   "id": "f0692373",
   "metadata": {},
   "outputs": [
    {
     "data": {
      "text/html": [
       "<div>\n",
       "<style scoped>\n",
       "    .dataframe tbody tr th:only-of-type {\n",
       "        vertical-align: middle;\n",
       "    }\n",
       "\n",
       "    .dataframe tbody tr th {\n",
       "        vertical-align: top;\n",
       "    }\n",
       "\n",
       "    .dataframe thead th {\n",
       "        text-align: right;\n",
       "    }\n",
       "</style>\n",
       "<table border=\"1\" class=\"dataframe\">\n",
       "  <thead>\n",
       "    <tr style=\"text-align: right;\">\n",
       "      <th></th>\n",
       "      <th>Store_Area</th>\n",
       "      <th>Items_Available</th>\n",
       "      <th>Daily_Customer_Count</th>\n",
       "      <th>Store_Sales</th>\n",
       "    </tr>\n",
       "  </thead>\n",
       "  <tbody>\n",
       "    <tr>\n",
       "      <th>Store_Area</th>\n",
       "      <td>1.000</td>\n",
       "      <td>0.999</td>\n",
       "      <td>-0.041</td>\n",
       "      <td>0.097</td>\n",
       "    </tr>\n",
       "    <tr>\n",
       "      <th>Items_Available</th>\n",
       "      <td>0.999</td>\n",
       "      <td>1.000</td>\n",
       "      <td>-0.041</td>\n",
       "      <td>0.099</td>\n",
       "    </tr>\n",
       "    <tr>\n",
       "      <th>Daily_Customer_Count</th>\n",
       "      <td>-0.041</td>\n",
       "      <td>-0.041</td>\n",
       "      <td>1.000</td>\n",
       "      <td>0.009</td>\n",
       "    </tr>\n",
       "    <tr>\n",
       "      <th>Store_Sales</th>\n",
       "      <td>0.097</td>\n",
       "      <td>0.099</td>\n",
       "      <td>0.009</td>\n",
       "      <td>1.000</td>\n",
       "    </tr>\n",
       "  </tbody>\n",
       "</table>\n",
       "</div>"
      ],
      "text/plain": [
       "                      Store_Area  Items_Available  Daily_Customer_Count  \\\n",
       "Store_Area                 1.000            0.999                -0.041   \n",
       "Items_Available            0.999            1.000                -0.041   \n",
       "Daily_Customer_Count      -0.041           -0.041                 1.000   \n",
       "Store_Sales                0.097            0.099                 0.009   \n",
       "\n",
       "                      Store_Sales  \n",
       "Store_Area                  0.097  \n",
       "Items_Available             0.099  \n",
       "Daily_Customer_Count        0.009  \n",
       "Store_Sales                 1.000  "
      ]
     },
     "execution_count": 92,
     "metadata": {},
     "output_type": "execute_result"
    }
   ],
   "source": [
    "matrix_1 = stores_df.corr().round(3)\n",
    "matrix_1"
   ]
  },
  {
   "cell_type": "markdown",
   "id": "da3776e3",
   "metadata": {},
   "source": [
    "For better visual clarity, the correlation matrix above will be converted into a heatmap"
   ]
  },
  {
   "cell_type": "code",
   "execution_count": 93,
   "id": "e15ba1cd",
   "metadata": {
    "scrolled": true
   },
   "outputs": [
    {
     "data": {
      "text/plain": [
       "<AxesSubplot:>"
      ]
     },
     "execution_count": 93,
     "metadata": {},
     "output_type": "execute_result"
    },
    {
     "data": {
      "image/png": "[encoded data removed]",
      "text/plain": [
       "<Figure size 432x288 with 2 Axes>"
      ]
     },
     "metadata": {
      "needs_background": "light"
     },
     "output_type": "display_data"
    }
   ],
   "source": [
    "#HEATMAP FOR stores DATASET\n",
    "sns.heatmap(matrix_1, annot=True)"
   ]
  },
  {
   "cell_type": "markdown",
   "id": "a589b591",
   "metadata": {},
   "source": [
    "The heatmap above will be converted into a lower-triangle-shaped heatmap to provide better insights on the relationship between the variables in the dataset 'stores'"
   ]
  },
  {
   "cell_type": "code",
   "execution_count": 96,
   "id": "2a9f91ef",
   "metadata": {},
   "outputs": [
    {
     "data": {
      "image/png": "[encoded data removed]",
      "text/plain": [
       "<Figure size 432x288 with 2 Axes>"
      ]
     },
     "metadata": {
      "needs_background": "light"
     },
     "output_type": "display_data"
    }
   ],
   "source": [
    "#THE LOWER HALF OF THE HEATMAP / CORRELATION MATRIX\n",
    "\n",
    "matrix_1 = stores_df.corr().round(3)\n",
    "mask = np.triu(np.ones_like(matrix_1, dtype=bool))\n",
    "sns.heatmap(matrix_1, annot=True, vmax=1, vmin=-1, center=0, cmap='vlag',mask=mask)\n",
    "plt.show()"
   ]
  },
  {
   "cell_type": "markdown",
   "id": "e1afa27b",
   "metadata": {},
   "source": [
    "Throughout this investigation, we can see that the R-squared value for the relationship between Items Available and Sales is the highest, which is 0.009771 (4 significant figures), whereas the relationship between Daily Customer Count and Sales generates the lowest R-squared value, which is 7.445e-05 (4 significant figures)."
   ]
  },
  {
   "cell_type": "markdown",
   "id": "331cba2d",
   "metadata": {},
   "source": [
    "Based on the coefficient matrix plotted in the analysis, it is found that the relationship between Items Available and Sales provides the largest positive correlation coefficient, which is 0.099, whereas Daily Customer Count provides the least positive correlation coefficient, which is 0.009."
   ]
  },
  {
   "cell_type": "markdown",
   "id": "16620793",
   "metadata": {},
   "source": [
    "However, one of the things that should be noted is that all the independent variables obtain a less than +0.1 correlation coefficient, which implies that each Store's Sales dependence towards any one of those variables is weak."
   ]
  },
  {
   "cell_type": "markdown",
   "id": "ab0a39b5",
   "metadata": {},
   "source": [
    "Another thing that should be pointed out is the relationship between the Number of Items Available against the Area of Stores, as it shows an approximately perfect positive correlation, which implies multicollinearity. This is a problem as they are independent variables and should be independent."
   ]
  },
  {
   "cell_type": "markdown",
   "id": "e865341f",
   "metadata": {},
   "source": [
    "Through regression analysis, it can be highlighted that the Store Sales is mostly dependent on the Number of Items Available in the Store."
   ]
  },
  {
   "cell_type": "code",
   "execution_count": null,
   "id": "ae00605c",
   "metadata": {},
   "outputs": [],
   "source": []
  }
 ],
 "metadata": {
  "kernelspec": {
   "display_name": "Python 3 (ipykernel)",
   "language": "python",
   "name": "python3"
  },
  "language_info": {
   "codemirror_mode": {
    "name": "ipython",
    "version": 3
   },
   "file_extension": ".py",
   "mimetype": "text/x-python",
   "name": "python",
   "nbconvert_exporter": "python",
   "pygments_lexer": "ipython3",
   "version": "3.9.12"
  }
 },
 "nbformat": 4,
 "nbformat_minor": 5
}
